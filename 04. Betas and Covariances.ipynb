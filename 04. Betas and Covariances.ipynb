{
 "cells": [
  {
   "cell_type": "markdown",
   "id": "15fd1a39",
   "metadata": {},
   "source": [
    "<center> <h1> 04. Betas <h1> <center>"
   ]
  },
  {
   "cell_type": "markdown",
   "id": "77459a05",
   "metadata": {},
   "source": [
    "This notebook looks at some way to estimate the variance covariance matrix of a portfolio. "
   ]
  },
  {
   "cell_type": "code",
   "execution_count": null,
   "id": "20dfae25",
   "metadata": {},
   "outputs": [],
   "source": [
    "import numpy as np\n",
    "import matplotlib.pyplot as plt\n",
    "import pandas as pd\n",
    "\n",
    "x    = pd.read_csv(\"FFmFactorsPs.csv\")\n",
    "Rme  = x.iloc[:,1]                #market excess return\n",
    "RSMB = x.iloc[:,2]                #small minus big firms\n",
    "RHML = x.iloc[:,3]                #high minus low book-to-market ratio\n",
    "Rf   = x.iloc[:,4]                #interest rate\n",
    "\n",
    "x  = pd.read_csv(\"FF25Ps.csv\", header = None) \n",
    "# Returns for 25 FF portfolios\n",
    "R  = x.iloc[:,1:]                     \n",
    "for col in R.columns:\n",
    "    R[col] = R[col] - Rf\n",
    "# Use just 5 assets to make the printing easier\n",
    "Re = R.iloc[:,[0,6,12,18,24]]          "
   ]
  },
  {
   "cell_type": "markdown",
   "id": "0585a0e0",
   "metadata": {},
   "source": [
    "## 4.1. Covariance Matrix with Average Correlations\n",
    "\n",
    "For the diagonal element of the estimated matrix $\\Sigma$ use the historical variances. Correct the covariances by assuming the structure:\n",
    "\n",
    "$$ \\sigma_{ij} = \\bar{\\rho}\\sqrt{\\sigma^2_j \\sigma^2_i} $$\n",
    "\n",
    "where $\\bar{\\rho}$ is the average correlation of the portfolio stocks. One can estimate the matrix by:\n",
    "\n",
    "$$ M = np.ones(n,n)*\\bar{\\rho} + (1-\\bar{\\rho})*I_n \\\\\n",
    " \\Sigma  = (\\sigma*\\sigma^T) \\circ M$$\n",
    "\n",
    "For $\\sigma$ the vector of standard deviations and $\\circ$ the element wise product (Hadamard product)."
   ]
  },
  {
   "cell_type": "code",
   "execution_count": null,
   "id": "b6907696",
   "metadata": {},
   "outputs": [
    {
     "name": "stdout",
     "output_type": "stream",
     "text": [
      "Cov matrix (constant corr):\n",
      " [[73.4754298  39.48310678 33.43335941 32.42241325 32.50918271]\n",
      " [39.48310678 37.3705188  23.84369254 23.12271535 23.18459679]\n",
      " [33.43335941 23.84369254 26.79578746 19.57976755 19.63216728]\n",
      " [32.42241325 23.12271535 19.57976755 25.19980408 19.03853672]\n",
      " [32.50918271 23.18459679 19.63216728 19.03853672 25.33486492]]\n"
     ]
    }
   ],
   "source": [
    "# Standard deviations\n",
    "sigma = Re.std(ddof=1).to_numpy()           \n",
    "\n",
    "# correlation matrix\n",
    "Corr_matrix = np.corrcoef(Re, rowvar=False) \n",
    "\n",
    "# compute average of unique off-diagonal correlations (upper triangle, k=1)\n",
    "n = Corr_matrix.shape[0]\n",
    "off_diag_idx = np.triu_indices(n, k=1)\n",
    "phi_hat = Corr_matrix[off_diag_idx].mean()\n",
    "\n",
    "# build matrix of sigma products\n",
    "M = np.outer(sigma, sigma)\n",
    "\n",
    "# constant-correlation covariance matrix\n",
    "CC = phi_hat * M\n",
    "np.fill_diagonal(CC, sigma**2)\n",
    "\n",
    "# print\n",
    "print(\"Cov matrix (constant corr):\\n\", CC)"
   ]
  },
  {
   "cell_type": "markdown",
   "id": "8566e5db",
   "metadata": {},
   "source": [
    "## 4.2. Covariance Matrix from a Single-Index Model\n"
   ]
  },
  {
   "cell_type": "markdown",
   "id": "1e4352ce",
   "metadata": {},
   "source": [
    "The single-index model is another way to reduce the number of parameters that we need to estimate in order to construct the covariance matrix of assets. The model assumes that the co-movement between assets is due to a single common influence (here denoted $R_{mt}$).\n",
    "If (4.2) and (4.8) are true, then the variance of asset $i$ and the covariance of assets $i$\n",
    "and $j$ are\n",
    "\\begin{align}\n",
    "\\sigma_i^2 &= \\beta_i^2 \\, \\sigma_{m}^2 + \\operatorname{Var}(\\varepsilon_{it}),  \\\\\n",
    "\\sigma_{ij} &= \\beta_i \\beta_j \\, \\sigma_{m}^2 \\quad \\text{for } i \\neq j\n",
    "\\end{align}\n",
    "where $\\sigma_{m}^2$ is the variance of $R_m$ and $\\beta$ is the regression slope. \n"
   ]
  },
  {
   "cell_type": "code",
   "execution_count": null,
   "id": "0662f6f0",
   "metadata": {},
   "outputs": [
    {
     "name": "stdout",
     "output_type": "stream",
     "text": [
      "β for 5 assets, from OLS of Re on constant and Rme:\n",
      "           asset 1   asset 2   asset 3   asset 4   asset 5\n",
      "β on Rme  1.341049  1.169075  0.994488  0.942687  0.849429\n"
     ]
    },
    {
     "name": "stderr",
     "output_type": "stream",
     "text": [
      "C:\\Users\\jraus\\AppData\\Local\\Temp\\ipykernel_3436\\3075256537.py:19: FutureWarning: Series.__getitem__ treating keys as positions is deprecated. In a future version, integer keys will always be treated as labels (consistent with DataFrame behavior). To access a value by position, use `ser.iloc[pos]`\n",
      "  betas.append(model.params[1])       # coefficient on Rme\n"
     ]
    }
   ],
   "source": [
    "##### STEP 1: compute the betas\n",
    "import statsmodels.api as sm\n",
    "\n",
    "# Obs and number of periods\n",
    "T, n = Re.shape\n",
    "\n",
    "# Add constant + market excess return as regressors\n",
    "X = sm.add_constant(Rme) \n",
    "\n",
    "betas = []\n",
    "var_res = []\n",
    "\n",
    "# run regression asset by asset\n",
    "for col in Re.columns:\n",
    "    y = Re[col].to_numpy()\n",
    "    model = sm.OLS(y, X).fit()\n",
    "    betas.append(model.params[1])       \n",
    "    var_res.append(model.resid.var(ddof=1))\n",
    "\n",
    "betas = np.array(betas)\n",
    "var_res = np.array(var_res)\n",
    "\n",
    "# Put into DataFrame for nice display\n",
    "colNames = [f\"asset {i+1}\" for i in range(n)]\n",
    "results = pd.DataFrame([betas], index=[\"β on Rme\"], columns=colNames)\n",
    "\n",
    "print(f\"β for {n} assets, from OLS of Re on constant and Rme:\")\n",
    "print(results)"
   ]
  },
  {
   "cell_type": "code",
   "execution_count": 43,
   "id": "0bae7d23",
   "metadata": {},
   "outputs": [
    {
     "name": "stdout",
     "output_type": "stream",
     "text": [
      "Cov matrix (Signle Index model):\n",
      " [[73.4754298  33.23221395 28.26939986 26.79689574 24.14592034]\n",
      " [33.23221395 37.3705188  24.6441849  23.36051196 21.04949269]\n",
      " [28.26939986 24.6441849  26.79578746 19.87191267 17.90601513]\n",
      " [26.79689574 23.36051196 19.87191267 25.19980408 16.97332179]\n",
      " [24.14592034 21.04949269 17.90601513 16.97332179 25.33486492]]\n"
     ]
    }
   ],
   "source": [
    "##### STEP 2: Construct the covariance matrix\n",
    "var_rme = Rme.var(ddof=1)\n",
    "\n",
    "\n",
    "def IndexCovMatrix(betas,var_rme,var_res):\n",
    "    n = len(betas)\n",
    "    Cov_matrix = np.zeros((n,n))\n",
    "    for i in range(n):\n",
    "        for j in range(n):\n",
    "            if i == j:\n",
    "                Cov_matrix[i,j] = betas[i]**2 * var_rme + var_res[i]\n",
    "            else:\n",
    "                Cov_matrix[i,j] = betas[i]*betas[j]*var_rme \n",
    "    return Cov_matrix\n",
    "\n",
    "Cov_matrix = IndexCovMatrix(betas,var_rme,var_res)\n",
    "print(\"Cov matrix (Signle Index model):\\n\", Cov_matrix)"
   ]
  },
  {
   "cell_type": "markdown",
   "id": "b125527f",
   "metadata": {},
   "source": [
    "## 4.3. Covariance Matrix from a Multi-Index Model"
   ]
  },
  {
   "cell_type": "markdown",
   "id": "009034b5",
   "metadata": {},
   "source": [
    "A multi-index model is based on\n",
    "\n",
    "$$ R_{it} = a_i + b'_i I_t + \\varepsilon_{it}$$\n",
    "\n",
    "The entries of the variance matirx $\\Sigma$ are given by: \n",
    "$$ \\sigma_{ij} = b'_i \\Omega b_j + Cov(\\varepsilon_{it}, \\varepsilon_{jt}) $$\n",
    "\n",
    "for $\\Omega$ the variance matrix of the index vector. $Cov(\\varepsilon_{it}, \\varepsilon_{jt}) = 0$ if $j \\ne i$ "
   ]
  },
  {
   "cell_type": "code",
   "execution_count": 84,
   "id": "6b6059e2",
   "metadata": {},
   "outputs": [
    {
     "name": "stdout",
     "output_type": "stream",
     "text": [
      "OLS slope coefficients:\n",
      "            asset 1   asset 2   asset 3   asset 4   asset 5\n",
      "β on Rme   1.069980  1.080000  1.034791  1.056347  1.040888\n",
      "β on RSMB  1.263934  0.768144  0.436871  0.152616 -0.087656\n",
      "β on RHML -0.277733  0.160222  0.486654  0.603010  0.770033\n"
     ]
    }
   ],
   "source": [
    "# Regressors\n",
    "I = pd.concat([Rme, RSMB, RHML], axis=1)\n",
    "X = sm.add_constant(I)   \n",
    "T, n = Re.shape\n",
    "k = X.shape[1]\n",
    "\n",
    "betas = np.zeros((k-1, n))    \n",
    "var_res = np.zeros(n)\n",
    "\n",
    "for j, col in enumerate(Re.columns):\n",
    "    y = Re[col].to_numpy()\n",
    "    model = sm.OLS(y, X).fit()\n",
    "    betas[:, j] = model.params[1:]          \n",
    "    var_res[j] = model.resid.var(ddof=1) \n",
    "\n",
    "# Put results in a DataFrame\n",
    "colNames = [f\"asset {j+1}\" for j in range(n)]\n",
    "rowNames = [\"β on Rme\", \"β on RSMB\", \"β on RHML\"]\n",
    "β_df = pd.DataFrame(betas, index=rowNames, columns=colNames)\n",
    "\n",
    "print(\"OLS slope coefficients:\")\n",
    "print(β_df)\n"
   ]
  },
  {
   "cell_type": "code",
   "execution_count": 105,
   "id": "beeca97b",
   "metadata": {},
   "outputs": [
    {
     "name": "stdout",
     "output_type": "stream",
     "text": [
      "Cov matrix (Multi Index model):\n",
      " [[73.4754298  41.84732875 31.05027761 25.44878901 18.93983584]\n",
      " [41.84732875 37.3705188  27.38401837 24.14082747 20.1454443 ]\n",
      " [31.05027761 27.38401837 26.79578746 22.23872734 20.10865365]\n",
      " [25.44878901 24.14082747 22.23872734 25.19980408 20.71697708]\n",
      " [18.93983584 20.1454443  20.10865365 20.71697708 25.33486492]]\n"
     ]
    }
   ],
   "source": [
    "T,n = Re.shape\n",
    "Cov_matrix = np.zeros((n,n))\n",
    "Omega = I.cov()\n",
    "\n",
    "# Rows\n",
    "for i in range(n):\n",
    "    for j in range(n):\n",
    "        if i == j:\n",
    "            Cov_matrix[i,j] =  betas[:,i] @ Omega @ betas[:,j] + var_res[j]\n",
    "        else:\n",
    "            Cov_matrix[i,j] =  betas[:,i] @ Omega @ betas[:,j]\n",
    "\n",
    "\n",
    "print(\"Cov matrix (Multi Index model):\\n\", Cov_matrix)"
   ]
  },
  {
   "cell_type": "markdown",
   "id": "a8b4634f",
   "metadata": {},
   "source": [
    "## 4.4. Shirnkage"
   ]
  },
  {
   "cell_type": "markdown",
   "id": "b26b9208",
   "metadata": {},
   "source": [
    "The historical sample covariance matrix, $S$, can exhibit significant noise in small samples. One way of handling that is to “shrink” the sample covariance matrix towards a target, $F$. \n",
    "$$ \\Sigma = \\theta F + (1 - \\theta)S \\text{ , for } 0 \\le \\theta \\le 1 $$\n",
    "\n",
    "One can use one of the matrix computed above as target."
   ]
  },
  {
   "cell_type": "code",
   "execution_count": null,
   "id": "905f61cf",
   "metadata": {},
   "outputs": [
    {
     "name": "stdout",
     "output_type": "stream",
     "text": [
      "Cov matrix (Shrinked):\n",
      "            1          7          13         19         25\n",
      "1   73.475430  40.899273  31.848757  29.458456  27.580683\n",
      "7   40.899273  37.370519  25.935208  23.928022  22.473384\n",
      "13  31.848757  25.935208  26.795787  21.200679  20.171827\n",
      "19  29.458456  23.928022  21.200679  25.199804  20.036265\n",
      "25  27.580683  22.473384  20.171827  20.036265  25.334865\n"
     ]
    }
   ],
   "source": [
    "# Compute the historical cov matrix\n",
    "S = Re.cov()\n",
    "\n",
    "# Shrink toward avergae corr matrix\n",
    "theta = 0.6\n",
    "Sigma = CC * theta + (1-theta) * S\n",
    "\n",
    "print(\"Cov matrix (Shrinked):\\n\", Sigma)"
   ]
  }
 ],
 "metadata": {
  "kernelspec": {
   "display_name": "base",
   "language": "python",
   "name": "python3"
  },
  "language_info": {
   "codemirror_mode": {
    "name": "ipython",
    "version": 3
   },
   "file_extension": ".py",
   "mimetype": "text/x-python",
   "name": "python",
   "nbconvert_exporter": "python",
   "pygments_lexer": "ipython3",
   "version": "3.12.7"
  }
 },
 "nbformat": 4,
 "nbformat_minor": 5
}
